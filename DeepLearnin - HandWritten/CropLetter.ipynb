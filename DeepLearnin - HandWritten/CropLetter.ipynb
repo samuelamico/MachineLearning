{
 "cells": [
  {
   "cell_type": "code",
   "execution_count": 77,
   "metadata": {},
   "outputs": [],
   "source": [
    "import cv2\n",
    "import numpy as np\n",
    "from PIL import Image\n",
    "%matplotlib inline\n",
    "import matplotlib.pyplot as plt\n",
    "import matplotlib.image as mpimg"
   ]
  },
  {
   "cell_type": "code",
   "execution_count": 108,
   "metadata": {},
   "outputs": [],
   "source": [
    "class Preprocess():\n",
    "    def __init__(self,image,gamma=0.3):\n",
    "        self.image = image\n",
    "        self.gamma = gamma\n",
    "    \n",
    "    def adjust_gamma(self):\n",
    "        invGamma = 1.0 / self.gamma\n",
    "        table = np.array([((i / 255.0) ** invGamma) * 255 for i in np.arange(0, 256)]).astype(\"uint8\")\n",
    "        return cv2.LUT(self.image, table)\n",
    "\n",
    "    def sharpening(self,image):\n",
    "        smoothed = cv2.GaussianBlur(image,(3,3),5)\n",
    "        unsh = cv2.addWeighted(image,1.8,smoothed,-0.5,0)\n",
    "        return unsh\n",
    "\n",
    "\n",
    "    def resizer(self,image):\n",
    "        img_re = image\n",
    "        scale_percent = 160 # percent of original size\n",
    "        width = int(img_re.shape[1] * scale_percent / 100)\n",
    "        height = int(img_re.shape[0] * scale_percent / 100)\n",
    "        dim = (width, height)\n",
    "        resized = cv2.resize(img_re, dim, interpolation = cv2.INTER_CUBIC)\n",
    "        return resized\n",
    "\n",
    "    def Filter(self):\n",
    "        image_gamma = self.adjust_gamma()\n",
    "        image_sharp = self.sharpening(image_gamma)\n",
    "        resized = self.resizer(image_sharp)\n",
    "        return resized\n",
    "\n"
   ]
  },
  {
   "cell_type": "code",
   "execution_count": 81,
   "metadata": {},
   "outputs": [
    {
     "data": {
      "text/plain": [
       "True"
      ]
     },
     "execution_count": 81,
     "metadata": {},
     "output_type": "execute_result"
    }
   ],
   "source": [
    "img = cv2.imread('Images/letras.png')\n",
    "#img = cv2.cvtColor(img,cv2.COLOR_BGR2GRAY)\n",
    "#equ = cv2.equalizeHist(img)\n",
    "#cv2.imwrite('HistEqua.png',equ)\n",
    "\n",
    "## Retirar sombra\n",
    "rgb_planes = cv2.split(img)\n",
    "result_planes = []\n",
    "result_norm_planes = []\n",
    "dst = np.zeros(shape=(5,2))\n",
    "for plane in rgb_planes:\n",
    "    dilated_img = cv2.dilate(plane, np.ones((13,13), np.uint8))\n",
    "    bg_img = cv2.medianBlur(dilated_img,21)\n",
    "    diff_img = 255 - cv2.absdiff(plane, bg_img)\n",
    "    norm_img = cv2.normalize(diff_img, dst ,alpha=0,beta=255,norm_type=cv2.NORM_MINMAX,dtype=cv2.CV_8UC1)\n",
    "    result_planes.append(diff_img)\n",
    "    result_norm_planes.append(norm_img)\n",
    "\n",
    "result = cv2.merge(result_planes)\n",
    "result_norm = cv2.merge(result_norm_planes)\n",
    "cv2.imwrite('NoShaw.png',result_norm)\n",
    "\n",
    "def adjust_gamma(image):\n",
    "    invGamma = 1.0 / 0.3\n",
    "    table = np.array([((i / 255.0) ** invGamma) * 255 for i in np.arange(0, 256)]).astype(\"uint8\")\n",
    "    return cv2.LUT(image,table)\n",
    "\n",
    "gamma_corection = adjust_gamma(result_norm)\n",
    "cv2.imwrite('gamma_corection.png',gamma_corection)\n",
    "\n",
    "\n"
   ]
  },
  {
   "cell_type": "code",
   "execution_count": 110,
   "metadata": {},
   "outputs": [
    {
     "data": {
      "text/plain": [
       "True"
      ]
     },
     "execution_count": 110,
     "metadata": {},
     "output_type": "execute_result"
    }
   ],
   "source": [
    "image = gamma_corection\n",
    "img_gray = cv2.cvtColor(image,cv2.COLOR_BGR2GRAY)\n",
    "#Thres\n",
    "ret,thr= cv2.threshold(img_gray,100,255,cv2.THRESH_BINARY)\n",
    "# Erosion\n",
    "kernel = np.ones((3,3), np.uint8)\n",
    "img_erosion = cv2.erode(thr, kernel, iterations=1)\n",
    "\n",
    "preproce = Preprocess(img_erosion)\n",
    "img_erosion = preproce.sharpening(img_erosion)\n",
    "\n",
    "cv2.imwrite('letras2.png',img_erosion)\n"
   ]
  },
  {
   "cell_type": "code",
   "execution_count": 84,
   "metadata": {},
   "outputs": [
    {
     "name": "stdout",
     "output_type": "stream",
     "text": [
      "[[69, 83, 19, 23], [287, 82, 22, 27], [198, 81, 17, 23], [151, 82, 20, 22], [26, 81, 18, 27], [325, 80, 17, 31], [238, 81, 31, 22], [358, 78, 26, 26], [109, 78, 17, 26], [589, 35, 19, 28], [629, 34, 18, 29], [545, 32, 18, 27], [514, 31, 26, 27], [375, 30, 8, 26], [403, 29, 18, 24], [243, 29, 16, 25], [110, 29, 18, 21], [69, 29, 20, 20], [478, 28, 22, 28], [153, 28, 22, 24], [201, 27, 18, 27], [444, 26, 18, 31], [331, 26, 21, 25], [286, 25, 24, 23], [23, 23, 19, 27], [0, 0, 666, 147]]\n"
     ]
    }
   ],
   "source": [
    "# Find the Edges:\n",
    "res = cv2.findContours(img_erosion.copy(), cv2.RETR_LIST, cv2.CHAIN_APPROX_NONE)\n",
    "if cv2.__version__.split(\".\")[0] == '3':\n",
    "    im2, contours, hierarchy = res\n",
    "else:\n",
    "    contours, hierarchy = res\n",
    "\n",
    "rects = []\n",
    "for c in contours:\n",
    "    peri = cv2.arcLength(c, True)\n",
    "    approx = cv2.approxPolyDP(c, 0.02 * peri, True)\n",
    "    x, y, w, h = cv2.boundingRect(approx)\n",
    "    if h >= 16:\n",
    "        # if height is enough\n",
    "        # create rectangle for bounding\n",
    "        rect = [x, y, w, h]\n",
    "        rects.append(rect)\n",
    "        cv2.rectangle(img, (x, y), (x+w, y+h), (0, 255, 0), 1);\n",
    "\n",
    "cv2.imwrite('letras_final.png', img)\n",
    "print(rects)"
   ]
  },
  {
   "cell_type": "markdown",
   "metadata": {},
   "source": [
    "# New Class Image Process"
   ]
  },
  {
   "cell_type": "code",
   "execution_count": 98,
   "metadata": {},
   "outputs": [],
   "source": [
    "NI = 0\n",
    "path = 'ResultLetter/'\n",
    "for posi in rects:\n",
    "    x,y,w,h = (posi[0],posi[1],posi[2],posi[3])\n",
    "    #print(x,y,w,h)\n",
    "    letter_img = img_erosion[y:y+h,x:x+w]\n",
    "    # Interpolation:\n",
    "    preproce = Preprocess(img_erosion)\n",
    "    letter_img = preproce.resizer(letter_img)\n",
    "    cv2.imwrite(path+'Letter'+str(NI)+'.png',letter_img)\n",
    "    NI+=1\n"
   ]
  },
  {
   "cell_type": "code",
   "execution_count": null,
   "metadata": {},
   "outputs": [],
   "source": []
  }
 ],
 "metadata": {
  "kernelspec": {
   "display_name": "Python 2",
   "language": "python",
   "name": "python2"
  },
  "language_info": {
   "codemirror_mode": {
    "name": "ipython",
    "version": 2
   },
   "file_extension": ".py",
   "mimetype": "text/x-python",
   "name": "python",
   "nbconvert_exporter": "python",
   "pygments_lexer": "ipython2",
   "version": "2.7.16"
  }
 },
 "nbformat": 4,
 "nbformat_minor": 2
}
